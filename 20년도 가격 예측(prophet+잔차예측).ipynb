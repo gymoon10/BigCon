{
 "cells": [
  {
   "cell_type": "code",
   "execution_count": 1,
   "id": "9d49f1b7",
   "metadata": {},
   "outputs": [],
   "source": [
    "import os \n",
    "import pandas as pd\n",
    "import seaborn as sns\n",
    "import numpy as np\n",
    "import scipy.signal as ss\n",
    "from matplotlib import pyplot\n",
    "from matplotlib import pyplot as plt\n",
    "import statsmodels.graphics.tsaplots as sgt\n",
    "from statsmodels.tsa.stattools import adfuller\n",
    "from datetime import datetime\n",
    "from statsmodels.tsa.seasonal import seasonal_decompose\n",
    "from statsmodels.tsa.stattools import grangercausalitytests\n",
    "\n",
    "import xgboost as xgb ## XGBoost 불러오기\n",
    "from xgboost import plot_importance ## Feature Importance를 불러오기 위함\n",
    "from sklearn.metrics import explained_variance_score\n",
    "import pandas as pd\n",
    "import numpy as np\n",
    "from sklearn.datasets import load_breast_cancer\n",
    "from sklearn.model_selection import train_test_split\n",
    "from sklearn.metrics import confusion_matrix, accuracy_score, precision_score, recall_score\n",
    "from sklearn.metrics import confusion_matrix, f1_score, roc_auc_score\n",
    "import warnings"
   ]
  },
  {
   "cell_type": "code",
   "execution_count": 2,
   "id": "2c80807e",
   "metadata": {},
   "outputs": [
    {
     "data": {
      "text/html": [
       "<div>\n",
       "<style scoped>\n",
       "    .dataframe tbody tr th:only-of-type {\n",
       "        vertical-align: middle;\n",
       "    }\n",
       "\n",
       "    .dataframe tbody tr th {\n",
       "        vertical-align: top;\n",
       "    }\n",
       "\n",
       "    .dataframe thead th {\n",
       "        text-align: right;\n",
       "    }\n",
       "</style>\n",
       "<table border=\"1\" class=\"dataframe\">\n",
       "  <thead>\n",
       "    <tr style=\"text-align: right;\">\n",
       "      <th></th>\n",
       "      <th>DATE</th>\n",
       "      <th>WIND_SPEED</th>\n",
       "      <th>SEA_SURF_TEMP</th>\n",
       "      <th>AIR_TEMP</th>\n",
       "      <th>P_PRICE</th>\n",
       "      <th>Broad</th>\n",
       "      <th>Narrow</th>\n",
       "      <th>year</th>\n",
       "      <th>yhat</th>\n",
       "      <th>residual</th>\n",
       "    </tr>\n",
       "  </thead>\n",
       "  <tbody>\n",
       "    <tr>\n",
       "      <th>0</th>\n",
       "      <td>2015-12-28</td>\n",
       "      <td>18.827252</td>\n",
       "      <td>48.332993</td>\n",
       "      <td>42.723972</td>\n",
       "      <td>13.288000</td>\n",
       "      <td>111.280</td>\n",
       "      <td>114.305</td>\n",
       "      <td>2015.0</td>\n",
       "      <td>12.624742</td>\n",
       "      <td>0.663258</td>\n",
       "    </tr>\n",
       "    <tr>\n",
       "      <th>1</th>\n",
       "      <td>2016-01-04</td>\n",
       "      <td>15.008106</td>\n",
       "      <td>47.931973</td>\n",
       "      <td>29.411020</td>\n",
       "      <td>12.855000</td>\n",
       "      <td>109.814</td>\n",
       "      <td>112.292</td>\n",
       "      <td>2016.0</td>\n",
       "      <td>12.630164</td>\n",
       "      <td>0.224836</td>\n",
       "    </tr>\n",
       "    <tr>\n",
       "      <th>2</th>\n",
       "      <td>2016-01-11</td>\n",
       "      <td>15.327347</td>\n",
       "      <td>47.514286</td>\n",
       "      <td>32.301088</td>\n",
       "      <td>12.876667</td>\n",
       "      <td>108.948</td>\n",
       "      <td>111.120</td>\n",
       "      <td>2016.0</td>\n",
       "      <td>12.716925</td>\n",
       "      <td>0.159742</td>\n",
       "    </tr>\n",
       "    <tr>\n",
       "      <th>3</th>\n",
       "      <td>2016-01-18</td>\n",
       "      <td>15.330000</td>\n",
       "      <td>47.386531</td>\n",
       "      <td>38.159864</td>\n",
       "      <td>13.386667</td>\n",
       "      <td>109.228</td>\n",
       "      <td>111.312</td>\n",
       "      <td>2016.0</td>\n",
       "      <td>12.766577</td>\n",
       "      <td>0.620090</td>\n",
       "    </tr>\n",
       "    <tr>\n",
       "      <th>4</th>\n",
       "      <td>2016-01-25</td>\n",
       "      <td>19.857103</td>\n",
       "      <td>47.281633</td>\n",
       "      <td>40.924449</td>\n",
       "      <td>12.645000</td>\n",
       "      <td>109.566</td>\n",
       "      <td>111.866</td>\n",
       "      <td>2016.0</td>\n",
       "      <td>12.670976</td>\n",
       "      <td>-0.025976</td>\n",
       "    </tr>\n",
       "  </tbody>\n",
       "</table>\n",
       "</div>"
      ],
      "text/plain": [
       "         DATE  WIND_SPEED  SEA_SURF_TEMP   AIR_TEMP    P_PRICE    Broad  \\\n",
       "0  2015-12-28   18.827252      48.332993  42.723972  13.288000  111.280   \n",
       "1  2016-01-04   15.008106      47.931973  29.411020  12.855000  109.814   \n",
       "2  2016-01-11   15.327347      47.514286  32.301088  12.876667  108.948   \n",
       "3  2016-01-18   15.330000      47.386531  38.159864  13.386667  109.228   \n",
       "4  2016-01-25   19.857103      47.281633  40.924449  12.645000  109.566   \n",
       "\n",
       "    Narrow    year       yhat  residual  \n",
       "0  114.305  2015.0  12.624742  0.663258  \n",
       "1  112.292  2016.0  12.630164  0.224836  \n",
       "2  111.120  2016.0  12.716925  0.159742  \n",
       "3  111.312  2016.0  12.766577  0.620090  \n",
       "4  111.866  2016.0  12.670976 -0.025976  "
      ]
     },
     "execution_count": 2,
     "metadata": {},
     "output_type": "execute_result"
    }
   ],
   "source": [
    "df = pd.read_csv('C:/Users/ky_moon/Desktop/bigcon/total_fb_res.csv')\n",
    "df = df.drop('Unnamed: 0', axis=1)\n",
    "df.head()"
   ]
  },
  {
   "cell_type": "code",
   "execution_count": 3,
   "id": "f253c3f0",
   "metadata": {},
   "outputs": [
    {
     "data": {
      "text/html": [
       "<div>\n",
       "<style scoped>\n",
       "    .dataframe tbody tr th:only-of-type {\n",
       "        vertical-align: middle;\n",
       "    }\n",
       "\n",
       "    .dataframe tbody tr th {\n",
       "        vertical-align: top;\n",
       "    }\n",
       "\n",
       "    .dataframe thead th {\n",
       "        text-align: right;\n",
       "    }\n",
       "</style>\n",
       "<table border=\"1\" class=\"dataframe\">\n",
       "  <thead>\n",
       "    <tr style=\"text-align: right;\">\n",
       "      <th></th>\n",
       "      <th>DATE</th>\n",
       "      <th>WIND_SPEED</th>\n",
       "      <th>SEA_SURF_TEMP</th>\n",
       "      <th>AIR_TEMP</th>\n",
       "      <th>P_PRICE</th>\n",
       "      <th>Broad</th>\n",
       "      <th>Narrow</th>\n",
       "      <th>year</th>\n",
       "      <th>yhat</th>\n",
       "      <th>residual</th>\n",
       "    </tr>\n",
       "  </thead>\n",
       "  <tbody>\n",
       "    <tr>\n",
       "      <th>0</th>\n",
       "      <td>2015-12-28</td>\n",
       "      <td>18.827252</td>\n",
       "      <td>48.332993</td>\n",
       "      <td>42.723972</td>\n",
       "      <td>13.288000</td>\n",
       "      <td>111.280</td>\n",
       "      <td>114.305</td>\n",
       "      <td>2015.0</td>\n",
       "      <td>12.624742</td>\n",
       "      <td>0.663258</td>\n",
       "    </tr>\n",
       "    <tr>\n",
       "      <th>1</th>\n",
       "      <td>2016-01-04</td>\n",
       "      <td>15.008106</td>\n",
       "      <td>47.931973</td>\n",
       "      <td>29.411020</td>\n",
       "      <td>12.855000</td>\n",
       "      <td>109.814</td>\n",
       "      <td>112.292</td>\n",
       "      <td>2016.0</td>\n",
       "      <td>12.630164</td>\n",
       "      <td>0.224836</td>\n",
       "    </tr>\n",
       "    <tr>\n",
       "      <th>2</th>\n",
       "      <td>2016-01-11</td>\n",
       "      <td>15.327347</td>\n",
       "      <td>47.514286</td>\n",
       "      <td>32.301088</td>\n",
       "      <td>12.876667</td>\n",
       "      <td>108.948</td>\n",
       "      <td>111.120</td>\n",
       "      <td>2016.0</td>\n",
       "      <td>12.716925</td>\n",
       "      <td>0.159742</td>\n",
       "    </tr>\n",
       "    <tr>\n",
       "      <th>3</th>\n",
       "      <td>2016-01-18</td>\n",
       "      <td>15.330000</td>\n",
       "      <td>47.386531</td>\n",
       "      <td>38.159864</td>\n",
       "      <td>13.386667</td>\n",
       "      <td>109.228</td>\n",
       "      <td>111.312</td>\n",
       "      <td>2016.0</td>\n",
       "      <td>12.766577</td>\n",
       "      <td>0.620090</td>\n",
       "    </tr>\n",
       "    <tr>\n",
       "      <th>4</th>\n",
       "      <td>2016-01-25</td>\n",
       "      <td>19.857103</td>\n",
       "      <td>47.281633</td>\n",
       "      <td>40.924449</td>\n",
       "      <td>12.645000</td>\n",
       "      <td>109.566</td>\n",
       "      <td>111.866</td>\n",
       "      <td>2016.0</td>\n",
       "      <td>12.670976</td>\n",
       "      <td>-0.025976</td>\n",
       "    </tr>\n",
       "  </tbody>\n",
       "</table>\n",
       "</div>"
      ],
      "text/plain": [
       "         DATE  WIND_SPEED  SEA_SURF_TEMP   AIR_TEMP    P_PRICE    Broad  \\\n",
       "0  2015-12-28   18.827252      48.332993  42.723972  13.288000  111.280   \n",
       "1  2016-01-04   15.008106      47.931973  29.411020  12.855000  109.814   \n",
       "2  2016-01-11   15.327347      47.514286  32.301088  12.876667  108.948   \n",
       "3  2016-01-18   15.330000      47.386531  38.159864  13.386667  109.228   \n",
       "4  2016-01-25   19.857103      47.281633  40.924449  12.645000  109.566   \n",
       "\n",
       "    Narrow    year       yhat  residual  \n",
       "0  114.305  2015.0  12.624742  0.663258  \n",
       "1  112.292  2016.0  12.630164  0.224836  \n",
       "2  111.120  2016.0  12.716925  0.159742  \n",
       "3  111.312  2016.0  12.766577  0.620090  \n",
       "4  111.866  2016.0  12.670976 -0.025976  "
      ]
     },
     "execution_count": 3,
     "metadata": {},
     "output_type": "execute_result"
    }
   ],
   "source": [
    "df.head()"
   ]
  },
  {
   "cell_type": "code",
   "execution_count": 4,
   "id": "0bf52c04",
   "metadata": {},
   "outputs": [],
   "source": [
    "df_train = df.iloc[:210]\n",
    "df_test = df.iloc[210:]"
   ]
  },
  {
   "cell_type": "code",
   "execution_count": 6,
   "id": "c88a6450",
   "metadata": {},
   "outputs": [],
   "source": [
    "y_train = df_train['residual']\n",
    "X_train = df_train[['WIND_SPEED', 'SEA_SURF_TEMP', 'Broad']]\n",
    "\n",
    "y_test = df_test['residual']\n",
    "X_test = df_test[['WIND_SPEED', 'SEA_SURF_TEMP', 'Broad']]"
   ]
  },
  {
   "cell_type": "code",
   "execution_count": 7,
   "id": "da69782c",
   "metadata": {},
   "outputs": [],
   "source": [
    "from sklearn.preprocessing import StandardScaler\n",
    "\n",
    "scaler = StandardScaler()   \n",
    "scaler.fit(X_train)\n",
    "scaler.fit(X_test)\n",
    "\n",
    "X_train_scaled = scaler.transform(X_train)\n",
    "X_test_scaled = scaler.transform(X_test)"
   ]
  },
  {
   "cell_type": "code",
   "execution_count": 8,
   "id": "d3b2fcd6",
   "metadata": {},
   "outputs": [],
   "source": [
    "from sklearn.linear_model import Ridge\n",
    "from sklearn.model_selection import GridSearchCV\n",
    "\n",
    "ridge = Ridge()\n",
    "\n",
    "param_grid = {\n",
    "    'alpha': [0.1, 0.5, 1, 1.5, 2]\n",
    "}\n",
    "grid_search = GridSearchCV(ridge, param_grid=param_grid) "
   ]
  },
  {
   "cell_type": "code",
   "execution_count": 9,
   "id": "a0ce7b77",
   "metadata": {},
   "outputs": [
    {
     "data": {
      "text/plain": [
       "GridSearchCV(estimator=Ridge(), param_grid={'alpha': [0.1, 0.5, 1, 1.5, 2]})"
      ]
     },
     "execution_count": 9,
     "metadata": {},
     "output_type": "execute_result"
    }
   ],
   "source": [
    "grid_search.fit(X_train_scaled, y_train)"
   ]
  },
  {
   "cell_type": "code",
   "execution_count": 10,
   "id": "6d56fd49",
   "metadata": {},
   "outputs": [
    {
     "data": {
      "text/plain": [
       "Ridge(alpha=2)"
      ]
     },
     "execution_count": 10,
     "metadata": {},
     "output_type": "execute_result"
    }
   ],
   "source": [
    "grid_search.best_estimator_"
   ]
  },
  {
   "cell_type": "code",
   "execution_count": 11,
   "id": "efe7dc9c",
   "metadata": {},
   "outputs": [],
   "source": [
    "ridge = Ridge(alpha=2)\n",
    "ridge.fit(X_train_scaled, y_train)\n",
    "ridge_res = ridge.predict(X_test_scaled)"
   ]
  },
  {
   "cell_type": "code",
   "execution_count": 12,
   "id": "283df5a3",
   "metadata": {},
   "outputs": [
    {
     "name": "stderr",
     "output_type": "stream",
     "text": [
      "C:\\Users\\ky_moon\\Anaconda3\\envs\\tensorflow\\lib\\site-packages\\ipykernel_launcher.py:1: SettingWithCopyWarning: \n",
      "A value is trying to be set on a copy of a slice from a DataFrame.\n",
      "Try using .loc[row_indexer,col_indexer] = value instead\n",
      "\n",
      "See the caveats in the documentation: https://pandas.pydata.org/pandas-docs/stable/user_guide/indexing.html#returning-a-view-versus-a-copy\n",
      "  \"\"\"Entry point for launching an IPython kernel.\n",
      "C:\\Users\\ky_moon\\Anaconda3\\envs\\tensorflow\\lib\\site-packages\\ipykernel_launcher.py:2: SettingWithCopyWarning: \n",
      "A value is trying to be set on a copy of a slice from a DataFrame.\n",
      "Try using .loc[row_indexer,col_indexer] = value instead\n",
      "\n",
      "See the caveats in the documentation: https://pandas.pydata.org/pandas-docs/stable/user_guide/indexing.html#returning-a-view-versus-a-copy\n",
      "  \n"
     ]
    }
   ],
   "source": [
    "df_test['ridge_res'] = list(ridge_res)\n",
    "df_test['ridge_err'] = df_test['residual'] - df_test['ridge_res']"
   ]
  },
  {
   "cell_type": "code",
   "execution_count": 13,
   "id": "f59ff11b",
   "metadata": {},
   "outputs": [
    {
     "name": "stderr",
     "output_type": "stream",
     "text": [
      "C:\\Users\\ky_moon\\Anaconda3\\envs\\tensorflow\\lib\\site-packages\\ipykernel_launcher.py:1: SettingWithCopyWarning: \n",
      "A value is trying to be set on a copy of a slice from a DataFrame.\n",
      "Try using .loc[row_indexer,col_indexer] = value instead\n",
      "\n",
      "See the caveats in the documentation: https://pandas.pydata.org/pandas-docs/stable/user_guide/indexing.html#returning-a-view-versus-a-copy\n",
      "  \"\"\"Entry point for launching an IPython kernel.\n"
     ]
    }
   ],
   "source": [
    "df_test['fin_pred'] = df_test['yhat'] + df_test['ridge_res']"
   ]
  },
  {
   "cell_type": "code",
   "execution_count": 14,
   "id": "58b69755",
   "metadata": {},
   "outputs": [
    {
     "data": {
      "image/png": "[encoded data removed]",
      "text/plain": [
       "<Figure size 432x288 with 1 Axes>"
      ]
     },
     "metadata": {
      "needs_background": "light"
     },
     "output_type": "display_data"
    }
   ],
   "source": [
    "sns.lineplot(data=df_test['P_PRICE'], color = 'red', marker='o')\n",
    "sns.lineplot(data=df_test['yhat'], color = 'blue', marker='o')\n",
    "sns.lineplot(data=df_test['fin_pred'], color = 'black', marker='o')\n",
    "plt.show()"
   ]
  },
  {
   "cell_type": "code",
   "execution_count": 19,
   "id": "8743b998",
   "metadata": {},
   "outputs": [
    {
     "name": "stdout",
     "output_type": "stream",
     "text": [
      "2.0572785414904806\n"
     ]
    },
    {
     "name": "stderr",
     "output_type": "stream",
     "text": [
      "C:\\Users\\ky_moon\\Anaconda3\\envs\\tensorflow\\lib\\site-packages\\ipykernel_launcher.py:1: SettingWithCopyWarning: \n",
      "A value is trying to be set on a copy of a slice from a DataFrame.\n",
      "Try using .loc[row_indexer,col_indexer] = value instead\n",
      "\n",
      "See the caveats in the documentation: https://pandas.pydata.org/pandas-docs/stable/user_guide/indexing.html#returning-a-view-versus-a-copy\n",
      "  \"\"\"Entry point for launching an IPython kernel.\n"
     ]
    }
   ],
   "source": [
    "df_test['fin_resid'] = df_test['P_PRICE'] - df_test['fin_pred']\n",
    "sse = 0\n",
    "for err in df_test['fin_resid']:\n",
    "    se = err**2\n",
    "    sse += se\n",
    "mse = sse / df_test.shape[0]\n",
    "print(mse)"
   ]
  },
  {
   "cell_type": "code",
   "execution_count": null,
   "id": "5f870ac5",
   "metadata": {},
   "outputs": [],
   "source": []
  },
  {
   "cell_type": "code",
   "execution_count": null,
   "id": "c47e1f98",
   "metadata": {},
   "outputs": [],
   "source": []
  }
 ],
 "metadata": {
  "kernelspec": {
   "display_name": "Python 3",
   "language": "python",
   "name": "python3"
  },
  "language_info": {
   "codemirror_mode": {
    "name": "ipython",
    "version": 3
   },
   "file_extension": ".py",
   "mimetype": "text/x-python",
   "name": "python",
   "nbconvert_exporter": "python",
   "pygments_lexer": "ipython3",
   "version": "3.7.10"
  }
 },
 "nbformat": 4,
 "nbformat_minor": 5
}
