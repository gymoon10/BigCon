{
 "cells": [
  {
   "cell_type": "code",
   "execution_count": 1,
   "id": "ef0a7bf0",
   "metadata": {},
   "outputs": [],
   "source": [
    "import os \n",
    "import pandas as pd\n",
    "import seaborn as sns\n",
    "import numpy as np\n",
    "import scipy.signal as ss\n",
    "from matplotlib import pyplot\n",
    "from matplotlib import pyplot as plt\n",
    "import statsmodels.graphics.tsaplots as sgt\n",
    "from statsmodels.tsa.stattools import adfuller\n",
    "from datetime import datetime\n",
    "from statsmodels.tsa.seasonal import seasonal_decompose\n",
    "from statsmodels.tsa.stattools import grangercausalitytests\n",
    "\n",
    "import xgboost as xgb ## XGBoost 불러오기\n",
    "from xgboost import plot_importance ## Feature Importance를 불러오기 위함\n",
    "from sklearn.metrics import explained_variance_score\n",
    "import pandas as pd\n",
    "import numpy as np\n",
    "from sklearn.datasets import load_breast_cancer\n",
    "from sklearn.model_selection import train_test_split\n",
    "from sklearn.metrics import confusion_matrix, accuracy_score, precision_score, recall_score\n",
    "from sklearn.metrics import confusion_matrix, f1_score, roc_auc_score\n",
    "import warnings"
   ]
  },
  {
   "cell_type": "code",
   "execution_count": 2,
   "id": "53c192c5",
   "metadata": {},
   "outputs": [
    {
     "data": {
      "text/html": [
       "<div>\n",
       "<style scoped>\n",
       "    .dataframe tbody tr th:only-of-type {\n",
       "        vertical-align: middle;\n",
       "    }\n",
       "\n",
       "    .dataframe tbody tr th {\n",
       "        vertical-align: top;\n",
       "    }\n",
       "\n",
       "    .dataframe thead th {\n",
       "        text-align: right;\n",
       "    }\n",
       "</style>\n",
       "<table border=\"1\" class=\"dataframe\">\n",
       "  <thead>\n",
       "    <tr style=\"text-align: right;\">\n",
       "      <th></th>\n",
       "      <th>DATE</th>\n",
       "      <th>WIND_SPEED</th>\n",
       "      <th>SEA_SURF_TEMP</th>\n",
       "      <th>AIR_TEMP</th>\n",
       "      <th>P_PRICE</th>\n",
       "      <th>Broad</th>\n",
       "      <th>Narrow</th>\n",
       "      <th>year</th>\n",
       "      <th>fitted</th>\n",
       "      <th>residual</th>\n",
       "    </tr>\n",
       "  </thead>\n",
       "  <tbody>\n",
       "    <tr>\n",
       "      <th>0</th>\n",
       "      <td>2015-12-28</td>\n",
       "      <td>18.827252</td>\n",
       "      <td>48.332993</td>\n",
       "      <td>42.723972</td>\n",
       "      <td>13.288000</td>\n",
       "      <td>111.280</td>\n",
       "      <td>114.305</td>\n",
       "      <td>2015</td>\n",
       "      <td>13.080134</td>\n",
       "      <td>0.207866</td>\n",
       "    </tr>\n",
       "    <tr>\n",
       "      <th>1</th>\n",
       "      <td>2016-01-04</td>\n",
       "      <td>15.008106</td>\n",
       "      <td>47.931973</td>\n",
       "      <td>29.411020</td>\n",
       "      <td>12.855000</td>\n",
       "      <td>109.814</td>\n",
       "      <td>112.292</td>\n",
       "      <td>2016</td>\n",
       "      <td>12.971560</td>\n",
       "      <td>-0.116560</td>\n",
       "    </tr>\n",
       "    <tr>\n",
       "      <th>2</th>\n",
       "      <td>2016-01-11</td>\n",
       "      <td>15.327347</td>\n",
       "      <td>47.514286</td>\n",
       "      <td>32.301088</td>\n",
       "      <td>12.876667</td>\n",
       "      <td>108.948</td>\n",
       "      <td>111.120</td>\n",
       "      <td>2016</td>\n",
       "      <td>13.031678</td>\n",
       "      <td>-0.155012</td>\n",
       "    </tr>\n",
       "    <tr>\n",
       "      <th>3</th>\n",
       "      <td>2016-01-18</td>\n",
       "      <td>15.330000</td>\n",
       "      <td>47.386531</td>\n",
       "      <td>38.159864</td>\n",
       "      <td>13.386667</td>\n",
       "      <td>109.228</td>\n",
       "      <td>111.312</td>\n",
       "      <td>2016</td>\n",
       "      <td>13.099202</td>\n",
       "      <td>0.287464</td>\n",
       "    </tr>\n",
       "    <tr>\n",
       "      <th>4</th>\n",
       "      <td>2016-01-25</td>\n",
       "      <td>19.857103</td>\n",
       "      <td>47.281633</td>\n",
       "      <td>40.924449</td>\n",
       "      <td>12.645000</td>\n",
       "      <td>109.566</td>\n",
       "      <td>111.866</td>\n",
       "      <td>2016</td>\n",
       "      <td>12.996417</td>\n",
       "      <td>-0.351417</td>\n",
       "    </tr>\n",
       "  </tbody>\n",
       "</table>\n",
       "</div>"
      ],
      "text/plain": [
       "         DATE  WIND_SPEED  SEA_SURF_TEMP   AIR_TEMP    P_PRICE    Broad  \\\n",
       "0  2015-12-28   18.827252      48.332993  42.723972  13.288000  111.280   \n",
       "1  2016-01-04   15.008106      47.931973  29.411020  12.855000  109.814   \n",
       "2  2016-01-11   15.327347      47.514286  32.301088  12.876667  108.948   \n",
       "3  2016-01-18   15.330000      47.386531  38.159864  13.386667  109.228   \n",
       "4  2016-01-25   19.857103      47.281633  40.924449  12.645000  109.566   \n",
       "\n",
       "    Narrow  year     fitted  residual  \n",
       "0  114.305  2015  13.080134  0.207866  \n",
       "1  112.292  2016  12.971560 -0.116560  \n",
       "2  111.120  2016  13.031678 -0.155012  \n",
       "3  111.312  2016  13.099202  0.287464  \n",
       "4  111.866  2016  12.996417 -0.351417  "
      ]
     },
     "execution_count": 2,
     "metadata": {},
     "output_type": "execute_result"
    }
   ],
   "source": [
    "df = pd.read_csv('C:/Users/ky_moon/Desktop/bigcon/data_with_residual.csv')\n",
    "df = df.drop('Unnamed: 0', axis=1)\n",
    "df.head()"
   ]
  },
  {
   "cell_type": "code",
   "execution_count": 3,
   "id": "32b7ece1",
   "metadata": {},
   "outputs": [
    {
     "data": {
      "text/html": [
       "<div>\n",
       "<style scoped>\n",
       "    .dataframe tbody tr th:only-of-type {\n",
       "        vertical-align: middle;\n",
       "    }\n",
       "\n",
       "    .dataframe tbody tr th {\n",
       "        vertical-align: top;\n",
       "    }\n",
       "\n",
       "    .dataframe thead th {\n",
       "        text-align: right;\n",
       "    }\n",
       "</style>\n",
       "<table border=\"1\" class=\"dataframe\">\n",
       "  <thead>\n",
       "    <tr style=\"text-align: right;\">\n",
       "      <th></th>\n",
       "      <th>DATE</th>\n",
       "      <th>WIND_SPEED</th>\n",
       "      <th>SEA_SURF_TEMP</th>\n",
       "      <th>AIR_TEMP</th>\n",
       "      <th>P_PRICE</th>\n",
       "      <th>Broad</th>\n",
       "      <th>Narrow</th>\n",
       "      <th>fitted</th>\n",
       "      <th>residual</th>\n",
       "    </tr>\n",
       "  </thead>\n",
       "  <tbody>\n",
       "    <tr>\n",
       "      <th>0</th>\n",
       "      <td>2020-01-06</td>\n",
       "      <td>26.740816</td>\n",
       "      <td>46.253061</td>\n",
       "      <td>42.972109</td>\n",
       "      <td>16.994000</td>\n",
       "      <td>113.618</td>\n",
       "      <td>111.646</td>\n",
       "      <td>15.433607</td>\n",
       "      <td>1.560393</td>\n",
       "    </tr>\n",
       "    <tr>\n",
       "      <th>1</th>\n",
       "      <td>2020-01-13</td>\n",
       "      <td>20.370852</td>\n",
       "      <td>46.189116</td>\n",
       "      <td>43.171588</td>\n",
       "      <td>17.340000</td>\n",
       "      <td>113.978</td>\n",
       "      <td>112.486</td>\n",
       "      <td>15.468105</td>\n",
       "      <td>1.871895</td>\n",
       "    </tr>\n",
       "    <tr>\n",
       "      <th>2</th>\n",
       "      <td>2020-01-20</td>\n",
       "      <td>25.564932</td>\n",
       "      <td>46.239796</td>\n",
       "      <td>40.979687</td>\n",
       "      <td>15.586667</td>\n",
       "      <td>113.504</td>\n",
       "      <td>111.910</td>\n",
       "      <td>15.446519</td>\n",
       "      <td>0.140147</td>\n",
       "    </tr>\n",
       "    <tr>\n",
       "      <th>3</th>\n",
       "      <td>2020-01-27</td>\n",
       "      <td>18.184592</td>\n",
       "      <td>46.051429</td>\n",
       "      <td>40.331497</td>\n",
       "      <td>16.893333</td>\n",
       "      <td>112.056</td>\n",
       "      <td>110.290</td>\n",
       "      <td>15.242429</td>\n",
       "      <td>1.650904</td>\n",
       "    </tr>\n",
       "    <tr>\n",
       "      <th>4</th>\n",
       "      <td>2020-02-03</td>\n",
       "      <td>17.063039</td>\n",
       "      <td>45.943810</td>\n",
       "      <td>40.187143</td>\n",
       "      <td>15.976667</td>\n",
       "      <td>112.180</td>\n",
       "      <td>110.204</td>\n",
       "      <td>14.989041</td>\n",
       "      <td>0.987626</td>\n",
       "    </tr>\n",
       "  </tbody>\n",
       "</table>\n",
       "</div>"
      ],
      "text/plain": [
       "         DATE  WIND_SPEED  SEA_SURF_TEMP   AIR_TEMP    P_PRICE    Broad  \\\n",
       "0  2020-01-06   26.740816      46.253061  42.972109  16.994000  113.618   \n",
       "1  2020-01-13   20.370852      46.189116  43.171588  17.340000  113.978   \n",
       "2  2020-01-20   25.564932      46.239796  40.979687  15.586667  113.504   \n",
       "3  2020-01-27   18.184592      46.051429  40.331497  16.893333  112.056   \n",
       "4  2020-02-03   17.063039      45.943810  40.187143  15.976667  112.180   \n",
       "\n",
       "    Narrow     fitted  residual  \n",
       "0  111.646  15.433607  1.560393  \n",
       "1  112.486  15.468105  1.871895  \n",
       "2  111.910  15.446519  0.140147  \n",
       "3  110.290  15.242429  1.650904  \n",
       "4  110.204  14.989041  0.987626  "
      ]
     },
     "execution_count": 3,
     "metadata": {},
     "output_type": "execute_result"
    }
   ],
   "source": [
    "test = pd.read_csv('C:/Users/ky_moon/Desktop/bigcon/test_data.csv')\n",
    "test = test.drop('Unnamed: 0', axis=1)\n",
    "test.head()"
   ]
  },
  {
   "cell_type": "code",
   "execution_count": 4,
   "id": "37bc8d4c",
   "metadata": {},
   "outputs": [],
   "source": [
    "y = df['residual']\n",
    "X = df[['WIND_SPEED', 'AIR_TEMP', 'Broad']]\n",
    "\n",
    "X_train, X_test, y_train, y_test = train_test_split(X, y, test_size=0.2)"
   ]
  },
  {
   "cell_type": "code",
   "execution_count": 13,
   "id": "5043ae7e",
   "metadata": {},
   "outputs": [
    {
     "data": {
      "text/plain": [
       "XGBRegressor(base_score=0.5, booster='gbtree', colsample_bylevel=1,\n",
       "             colsample_bynode=1, colsample_bytree=1, gamma=0, gpu_id=-1,\n",
       "             importance_type='gain', interaction_constraints='',\n",
       "             learning_rate=0.08, max_delta_step=0, max_depth=7,\n",
       "             min_child_weight=1, missing=nan, monotone_constraints='()',\n",
       "             n_estimators=200, n_jobs=8, num_parallel_tree=1, random_state=0,\n",
       "             reg_alpha=0, reg_lambda=1, scale_pos_weight=1, subsample=0.75,\n",
       "             tree_method='exact', validate_parameters=1, verbosity=None)"
      ]
     },
     "execution_count": 13,
     "metadata": {},
     "output_type": "execute_result"
    }
   ],
   "source": [
    "xgb_model = xgb.XGBRegressor(n_estimators=200, learning_rate=0.08, gamma=0, subsample=0.75,\n",
    "                             colsample_bytree=1, max_depth=7)\n",
    "xgb_model.fit(X_train,y_train)"
   ]
  },
  {
   "cell_type": "code",
   "execution_count": 15,
   "id": "ffca66f4",
   "metadata": {},
   "outputs": [],
   "source": [
    "test_residual = xgb_model.predict(test[['WIND_SPEED', 'AIR_TEMP', 'Broad']])"
   ]
  },
  {
   "cell_type": "code",
   "execution_count": 17,
   "id": "c861ec2d",
   "metadata": {},
   "outputs": [],
   "source": [
    "test['residual_predicted'] = test_residual"
   ]
  },
  {
   "cell_type": "code",
   "execution_count": 19,
   "id": "18c53e7f",
   "metadata": {},
   "outputs": [
    {
     "data": {
      "text/html": [
       "<div>\n",
       "<style scoped>\n",
       "    .dataframe tbody tr th:only-of-type {\n",
       "        vertical-align: middle;\n",
       "    }\n",
       "\n",
       "    .dataframe tbody tr th {\n",
       "        vertical-align: top;\n",
       "    }\n",
       "\n",
       "    .dataframe thead th {\n",
       "        text-align: right;\n",
       "    }\n",
       "</style>\n",
       "<table border=\"1\" class=\"dataframe\">\n",
       "  <thead>\n",
       "    <tr style=\"text-align: right;\">\n",
       "      <th></th>\n",
       "      <th>DATE</th>\n",
       "      <th>WIND_SPEED</th>\n",
       "      <th>SEA_SURF_TEMP</th>\n",
       "      <th>AIR_TEMP</th>\n",
       "      <th>P_PRICE</th>\n",
       "      <th>Broad</th>\n",
       "      <th>Narrow</th>\n",
       "      <th>fitted</th>\n",
       "      <th>residual</th>\n",
       "      <th>residual_predicted</th>\n",
       "    </tr>\n",
       "  </thead>\n",
       "  <tbody>\n",
       "    <tr>\n",
       "      <th>0</th>\n",
       "      <td>2020-01-06</td>\n",
       "      <td>26.740816</td>\n",
       "      <td>46.253061</td>\n",
       "      <td>42.972109</td>\n",
       "      <td>16.994000</td>\n",
       "      <td>113.618</td>\n",
       "      <td>111.646</td>\n",
       "      <td>15.433607</td>\n",
       "      <td>1.560393</td>\n",
       "      <td>1.413984</td>\n",
       "    </tr>\n",
       "    <tr>\n",
       "      <th>1</th>\n",
       "      <td>2020-01-13</td>\n",
       "      <td>20.370852</td>\n",
       "      <td>46.189116</td>\n",
       "      <td>43.171588</td>\n",
       "      <td>17.340000</td>\n",
       "      <td>113.978</td>\n",
       "      <td>112.486</td>\n",
       "      <td>15.468105</td>\n",
       "      <td>1.871895</td>\n",
       "      <td>0.614590</td>\n",
       "    </tr>\n",
       "    <tr>\n",
       "      <th>2</th>\n",
       "      <td>2020-01-20</td>\n",
       "      <td>25.564932</td>\n",
       "      <td>46.239796</td>\n",
       "      <td>40.979687</td>\n",
       "      <td>15.586667</td>\n",
       "      <td>113.504</td>\n",
       "      <td>111.910</td>\n",
       "      <td>15.446519</td>\n",
       "      <td>0.140147</td>\n",
       "      <td>1.392930</td>\n",
       "    </tr>\n",
       "    <tr>\n",
       "      <th>3</th>\n",
       "      <td>2020-01-27</td>\n",
       "      <td>18.184592</td>\n",
       "      <td>46.051429</td>\n",
       "      <td>40.331497</td>\n",
       "      <td>16.893333</td>\n",
       "      <td>112.056</td>\n",
       "      <td>110.290</td>\n",
       "      <td>15.242429</td>\n",
       "      <td>1.650904</td>\n",
       "      <td>0.046787</td>\n",
       "    </tr>\n",
       "    <tr>\n",
       "      <th>4</th>\n",
       "      <td>2020-02-03</td>\n",
       "      <td>17.063039</td>\n",
       "      <td>45.943810</td>\n",
       "      <td>40.187143</td>\n",
       "      <td>15.976667</td>\n",
       "      <td>112.180</td>\n",
       "      <td>110.204</td>\n",
       "      <td>14.989041</td>\n",
       "      <td>0.987626</td>\n",
       "      <td>-0.198012</td>\n",
       "    </tr>\n",
       "  </tbody>\n",
       "</table>\n",
       "</div>"
      ],
      "text/plain": [
       "         DATE  WIND_SPEED  SEA_SURF_TEMP   AIR_TEMP    P_PRICE    Broad  \\\n",
       "0  2020-01-06   26.740816      46.253061  42.972109  16.994000  113.618   \n",
       "1  2020-01-13   20.370852      46.189116  43.171588  17.340000  113.978   \n",
       "2  2020-01-20   25.564932      46.239796  40.979687  15.586667  113.504   \n",
       "3  2020-01-27   18.184592      46.051429  40.331497  16.893333  112.056   \n",
       "4  2020-02-03   17.063039      45.943810  40.187143  15.976667  112.180   \n",
       "\n",
       "    Narrow     fitted  residual  residual_predicted  \n",
       "0  111.646  15.433607  1.560393            1.413984  \n",
       "1  112.486  15.468105  1.871895            0.614590  \n",
       "2  111.910  15.446519  0.140147            1.392930  \n",
       "3  110.290  15.242429  1.650904            0.046787  \n",
       "4  110.204  14.989041  0.987626           -0.198012  "
      ]
     },
     "execution_count": 19,
     "metadata": {},
     "output_type": "execute_result"
    }
   ],
   "source": [
    "test.head()"
   ]
  },
  {
   "cell_type": "code",
   "execution_count": 20,
   "id": "177f551f",
   "metadata": {},
   "outputs": [],
   "source": [
    "test['predicted_price'] = test['fitted'] + test['residual_predicted']"
   ]
  },
  {
   "cell_type": "code",
   "execution_count": 22,
   "id": "0f833200",
   "metadata": {},
   "outputs": [
    {
     "data": {
      "text/plain": [
       "2.0222402283110332"
      ]
     },
     "execution_count": 22,
     "metadata": {},
     "output_type": "execute_result"
    }
   ],
   "source": [
    "sse = 0\n",
    "for i in range(len(test)):\n",
    "    real = test.iloc[i, :]['P_PRICE']\n",
    "    pred = test.iloc[i, :]['predicted_price']\n",
    "    se = (pred - real)**2\n",
    "    sse += se\n",
    "mse = sse / test.shape[0]\n",
    "mse"
   ]
  },
  {
   "cell_type": "code",
   "execution_count": 23,
   "id": "2976c1ea",
   "metadata": {},
   "outputs": [
    {
     "data": {
      "text/plain": [
       "<AxesSubplot:ylabel='P_PRICE'>"
      ]
     },
     "execution_count": 23,
     "metadata": {},
     "output_type": "execute_result"
    },
    {
     "data": {
      "image/png": "[encoded data removed]",
      "text/plain": [
       "<Figure size 432x288 with 1 Axes>"
      ]
     },
     "metadata": {
      "needs_background": "light"
     },
     "output_type": "display_data"
    }
   ],
   "source": [
    "sns.lineplot(data=test['P_PRICE'], color = 'red')\n",
    "sns.lineplot(data=test['predicted_price'], color = 'blue')"
   ]
  },
  {
   "cell_type": "code",
   "execution_count": null,
   "id": "44a15ae3",
   "metadata": {},
   "outputs": [],
   "source": []
  },
  {
   "cell_type": "code",
   "execution_count": null,
   "id": "26cb4adf",
   "metadata": {},
   "outputs": [],
   "source": []
  }
 ],
 "metadata": {
  "kernelspec": {
   "display_name": "Python 3",
   "language": "python",
   "name": "python3"
  },
  "language_info": {
   "codemirror_mode": {
    "name": "ipython",
    "version": 3
   },
   "file_extension": ".py",
   "mimetype": "text/x-python",
   "name": "python",
   "nbconvert_exporter": "python",
   "pygments_lexer": "ipython3",
   "version": "3.7.10"
  }
 },
 "nbformat": 4,
 "nbformat_minor": 5
}
