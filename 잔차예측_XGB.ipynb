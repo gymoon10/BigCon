{
 "cells": [
  {
   "cell_type": "code",
   "execution_count": 77,
   "id": "dfa21e8b",
   "metadata": {},
   "outputs": [],
   "source": [
    "import os \n",
    "import pandas as pd\n",
    "import seaborn as sns\n",
    "import numpy as np"
   ]
  },
  {
   "cell_type": "code",
   "execution_count": 78,
   "id": "0d6c8d3f",
   "metadata": {},
   "outputs": [],
   "source": [
    "import xgboost as xgb ## XGBoost 불러오기\n",
    "from xgboost import plot_importance ## Feature Importance를 불러오기 위함\n",
    "from sklearn.metrics import explained_variance_score\n",
    "import pandas as pd\n",
    "import numpy as np\n",
    "from sklearn.datasets import load_breast_cancer\n",
    "from sklearn.model_selection import train_test_split\n",
    "from sklearn.metrics import confusion_matrix, accuracy_score, precision_score, recall_score\n",
    "from sklearn.metrics import confusion_matrix, f1_score, roc_auc_score\n",
    "import warnings"
   ]
  },
  {
   "cell_type": "code",
   "execution_count": 79,
   "id": "7d09bff9",
   "metadata": {},
   "outputs": [
    {
     "data": {
      "text/html": [
       "<div>\n",
       "<style scoped>\n",
       "    .dataframe tbody tr th:only-of-type {\n",
       "        vertical-align: middle;\n",
       "    }\n",
       "\n",
       "    .dataframe tbody tr th {\n",
       "        vertical-align: top;\n",
       "    }\n",
       "\n",
       "    .dataframe thead th {\n",
       "        text-align: right;\n",
       "    }\n",
       "</style>\n",
       "<table border=\"1\" class=\"dataframe\">\n",
       "  <thead>\n",
       "    <tr style=\"text-align: right;\">\n",
       "      <th></th>\n",
       "      <th>DATE</th>\n",
       "      <th>WIND_SPEED</th>\n",
       "      <th>SEA_SURF_TEMP</th>\n",
       "      <th>AIR_TEMP</th>\n",
       "      <th>P_PRICE</th>\n",
       "      <th>Broad</th>\n",
       "      <th>Narrow</th>\n",
       "      <th>year</th>\n",
       "      <th>fitted</th>\n",
       "      <th>residual</th>\n",
       "    </tr>\n",
       "  </thead>\n",
       "  <tbody>\n",
       "    <tr>\n",
       "      <th>0</th>\n",
       "      <td>2015-12-28</td>\n",
       "      <td>18.827252</td>\n",
       "      <td>48.332993</td>\n",
       "      <td>42.723972</td>\n",
       "      <td>13.288000</td>\n",
       "      <td>111.280</td>\n",
       "      <td>114.305</td>\n",
       "      <td>2015</td>\n",
       "      <td>13.080134</td>\n",
       "      <td>0.207866</td>\n",
       "    </tr>\n",
       "    <tr>\n",
       "      <th>1</th>\n",
       "      <td>2016-01-04</td>\n",
       "      <td>15.008106</td>\n",
       "      <td>47.931973</td>\n",
       "      <td>29.411020</td>\n",
       "      <td>12.855000</td>\n",
       "      <td>109.814</td>\n",
       "      <td>112.292</td>\n",
       "      <td>2016</td>\n",
       "      <td>12.971560</td>\n",
       "      <td>-0.116560</td>\n",
       "    </tr>\n",
       "    <tr>\n",
       "      <th>2</th>\n",
       "      <td>2016-01-11</td>\n",
       "      <td>15.327347</td>\n",
       "      <td>47.514286</td>\n",
       "      <td>32.301088</td>\n",
       "      <td>12.876667</td>\n",
       "      <td>108.948</td>\n",
       "      <td>111.120</td>\n",
       "      <td>2016</td>\n",
       "      <td>13.031678</td>\n",
       "      <td>-0.155012</td>\n",
       "    </tr>\n",
       "    <tr>\n",
       "      <th>3</th>\n",
       "      <td>2016-01-18</td>\n",
       "      <td>15.330000</td>\n",
       "      <td>47.386531</td>\n",
       "      <td>38.159864</td>\n",
       "      <td>13.386667</td>\n",
       "      <td>109.228</td>\n",
       "      <td>111.312</td>\n",
       "      <td>2016</td>\n",
       "      <td>13.099202</td>\n",
       "      <td>0.287464</td>\n",
       "    </tr>\n",
       "    <tr>\n",
       "      <th>4</th>\n",
       "      <td>2016-01-25</td>\n",
       "      <td>19.857103</td>\n",
       "      <td>47.281633</td>\n",
       "      <td>40.924449</td>\n",
       "      <td>12.645000</td>\n",
       "      <td>109.566</td>\n",
       "      <td>111.866</td>\n",
       "      <td>2016</td>\n",
       "      <td>12.996417</td>\n",
       "      <td>-0.351417</td>\n",
       "    </tr>\n",
       "  </tbody>\n",
       "</table>\n",
       "</div>"
      ],
      "text/plain": [
       "         DATE  WIND_SPEED  SEA_SURF_TEMP   AIR_TEMP    P_PRICE    Broad  \\\n",
       "0  2015-12-28   18.827252      48.332993  42.723972  13.288000  111.280   \n",
       "1  2016-01-04   15.008106      47.931973  29.411020  12.855000  109.814   \n",
       "2  2016-01-11   15.327347      47.514286  32.301088  12.876667  108.948   \n",
       "3  2016-01-18   15.330000      47.386531  38.159864  13.386667  109.228   \n",
       "4  2016-01-25   19.857103      47.281633  40.924449  12.645000  109.566   \n",
       "\n",
       "    Narrow  year     fitted  residual  \n",
       "0  114.305  2015  13.080134  0.207866  \n",
       "1  112.292  2016  12.971560 -0.116560  \n",
       "2  111.120  2016  13.031678 -0.155012  \n",
       "3  111.312  2016  13.099202  0.287464  \n",
       "4  111.866  2016  12.996417 -0.351417  "
      ]
     },
     "execution_count": 79,
     "metadata": {},
     "output_type": "execute_result"
    }
   ],
   "source": [
    "df = pd.read_csv('C:/Users/ky_moon/Desktop/bigcon/data_with_residual.csv')\n",
    "df = df.drop('Unnamed: 0', axis=1)\n",
    "test_data = df.iloc[210:]\n",
    "df = df.iloc[:210]\n",
    "df.head()"
   ]
  },
  {
   "cell_type": "markdown",
   "id": "707b995e",
   "metadata": {},
   "source": [
    "#### 잔차의 이동평균 구하기 (시점의 정보를 반영하기 위해)"
   ]
  },
  {
   "cell_type": "code",
   "execution_count": 112,
   "id": "4eae1611",
   "metadata": {},
   "outputs": [],
   "source": [
    "res = df[['DATE', 'residual']]\n",
    "MA4 = res.rolling(window=4, min_periods=1).mean()\n",
    "\n",
    "df['MA'] = MA4"
   ]
  },
  {
   "cell_type": "code",
   "execution_count": 113,
   "id": "b49f3285",
   "metadata": {},
   "outputs": [
    {
     "data": {
      "text/html": [
       "<div>\n",
       "<style scoped>\n",
       "    .dataframe tbody tr th:only-of-type {\n",
       "        vertical-align: middle;\n",
       "    }\n",
       "\n",
       "    .dataframe tbody tr th {\n",
       "        vertical-align: top;\n",
       "    }\n",
       "\n",
       "    .dataframe thead th {\n",
       "        text-align: right;\n",
       "    }\n",
       "</style>\n",
       "<table border=\"1\" class=\"dataframe\">\n",
       "  <thead>\n",
       "    <tr style=\"text-align: right;\">\n",
       "      <th></th>\n",
       "      <th>DATE</th>\n",
       "      <th>WIND_SPEED</th>\n",
       "      <th>SEA_SURF_TEMP</th>\n",
       "      <th>AIR_TEMP</th>\n",
       "      <th>P_PRICE</th>\n",
       "      <th>Broad</th>\n",
       "      <th>Narrow</th>\n",
       "      <th>year</th>\n",
       "      <th>fitted</th>\n",
       "      <th>residual</th>\n",
       "      <th>MA</th>\n",
       "    </tr>\n",
       "  </thead>\n",
       "  <tbody>\n",
       "    <tr>\n",
       "      <th>0</th>\n",
       "      <td>2015-12-28</td>\n",
       "      <td>18.827252</td>\n",
       "      <td>48.332993</td>\n",
       "      <td>42.723972</td>\n",
       "      <td>13.288000</td>\n",
       "      <td>111.280</td>\n",
       "      <td>114.305</td>\n",
       "      <td>2015</td>\n",
       "      <td>13.080134</td>\n",
       "      <td>0.207866</td>\n",
       "      <td>0.207866</td>\n",
       "    </tr>\n",
       "    <tr>\n",
       "      <th>1</th>\n",
       "      <td>2016-01-04</td>\n",
       "      <td>15.008106</td>\n",
       "      <td>47.931973</td>\n",
       "      <td>29.411020</td>\n",
       "      <td>12.855000</td>\n",
       "      <td>109.814</td>\n",
       "      <td>112.292</td>\n",
       "      <td>2016</td>\n",
       "      <td>12.971560</td>\n",
       "      <td>-0.116560</td>\n",
       "      <td>0.045653</td>\n",
       "    </tr>\n",
       "    <tr>\n",
       "      <th>2</th>\n",
       "      <td>2016-01-11</td>\n",
       "      <td>15.327347</td>\n",
       "      <td>47.514286</td>\n",
       "      <td>32.301088</td>\n",
       "      <td>12.876667</td>\n",
       "      <td>108.948</td>\n",
       "      <td>111.120</td>\n",
       "      <td>2016</td>\n",
       "      <td>13.031678</td>\n",
       "      <td>-0.155012</td>\n",
       "      <td>-0.021235</td>\n",
       "    </tr>\n",
       "    <tr>\n",
       "      <th>3</th>\n",
       "      <td>2016-01-18</td>\n",
       "      <td>15.330000</td>\n",
       "      <td>47.386531</td>\n",
       "      <td>38.159864</td>\n",
       "      <td>13.386667</td>\n",
       "      <td>109.228</td>\n",
       "      <td>111.312</td>\n",
       "      <td>2016</td>\n",
       "      <td>13.099202</td>\n",
       "      <td>0.287464</td>\n",
       "      <td>0.055940</td>\n",
       "    </tr>\n",
       "    <tr>\n",
       "      <th>4</th>\n",
       "      <td>2016-01-25</td>\n",
       "      <td>19.857103</td>\n",
       "      <td>47.281633</td>\n",
       "      <td>40.924449</td>\n",
       "      <td>12.645000</td>\n",
       "      <td>109.566</td>\n",
       "      <td>111.866</td>\n",
       "      <td>2016</td>\n",
       "      <td>12.996417</td>\n",
       "      <td>-0.351417</td>\n",
       "      <td>-0.083881</td>\n",
       "    </tr>\n",
       "  </tbody>\n",
       "</table>\n",
       "</div>"
      ],
      "text/plain": [
       "         DATE  WIND_SPEED  SEA_SURF_TEMP   AIR_TEMP    P_PRICE    Broad  \\\n",
       "0  2015-12-28   18.827252      48.332993  42.723972  13.288000  111.280   \n",
       "1  2016-01-04   15.008106      47.931973  29.411020  12.855000  109.814   \n",
       "2  2016-01-11   15.327347      47.514286  32.301088  12.876667  108.948   \n",
       "3  2016-01-18   15.330000      47.386531  38.159864  13.386667  109.228   \n",
       "4  2016-01-25   19.857103      47.281633  40.924449  12.645000  109.566   \n",
       "\n",
       "    Narrow  year     fitted  residual        MA  \n",
       "0  114.305  2015  13.080134  0.207866  0.207866  \n",
       "1  112.292  2016  12.971560 -0.116560  0.045653  \n",
       "2  111.120  2016  13.031678 -0.155012 -0.021235  \n",
       "3  111.312  2016  13.099202  0.287464  0.055940  \n",
       "4  111.866  2016  12.996417 -0.351417 -0.083881  "
      ]
     },
     "execution_count": 113,
     "metadata": {},
     "output_type": "execute_result"
    }
   ],
   "source": [
    "df.head()"
   ]
  },
  {
   "cell_type": "code",
   "execution_count": 80,
   "id": "b43321b1",
   "metadata": {},
   "outputs": [
    {
     "data": {
      "text/plain": [
       "<AxesSubplot:ylabel='residual'>"
      ]
     },
     "execution_count": 80,
     "metadata": {},
     "output_type": "execute_result"
    },
    {
     "data": {
      "image/png": "[encoded data removed]",
      "text/plain": [
       "<Figure size 432x288 with 1 Axes>"
      ]
     },
     "metadata": {
      "needs_background": "light"
     },
     "output_type": "display_data"
    }
   ],
   "source": [
    "import seaborn as sns\n",
    "\n",
    "sns.lineplot(data=df['residual'])"
   ]
  },
  {
   "cell_type": "code",
   "execution_count": 114,
   "id": "e44d419b",
   "metadata": {},
   "outputs": [],
   "source": [
    "df1 = df[['DATE', 'WIND_SPEED', 'AIR_TEMP', 'Broad', 'MA', 'residual']]"
   ]
  },
  {
   "cell_type": "code",
   "execution_count": 115,
   "id": "52f1b587",
   "metadata": {},
   "outputs": [
    {
     "name": "stdout",
     "output_type": "stream",
     "text": [
      "<class 'pandas.core.frame.DataFrame'>\n",
      "RangeIndex: 210 entries, 0 to 209\n",
      "Data columns (total 6 columns):\n",
      " #   Column      Non-Null Count  Dtype  \n",
      "---  ------      --------------  -----  \n",
      " 0   DATE        210 non-null    object \n",
      " 1   WIND_SPEED  210 non-null    float64\n",
      " 2   AIR_TEMP    210 non-null    float64\n",
      " 3   Broad       210 non-null    float64\n",
      " 4   MA          210 non-null    float64\n",
      " 5   residual    210 non-null    float64\n",
      "dtypes: float64(5), object(1)\n",
      "memory usage: 10.0+ KB\n"
     ]
    }
   ],
   "source": [
    "df1.info()"
   ]
  },
  {
   "cell_type": "code",
   "execution_count": 117,
   "id": "d220356f",
   "metadata": {},
   "outputs": [],
   "source": [
    "y = df1['residual']\n",
    "X = df1[['WIND_SPEED', 'AIR_TEMP', 'Broad', 'MA']]\n",
    "\n",
    "X_train, X_test, y_train, y_test = train_test_split(X, y, test_size=0.2)"
   ]
  },
  {
   "cell_type": "code",
   "execution_count": 118,
   "id": "e3fc2ec0",
   "metadata": {},
   "outputs": [
    {
     "data": {
      "text/plain": [
       "XGBRegressor(base_score=0.5, booster='gbtree', colsample_bylevel=1,\n",
       "             colsample_bynode=1, colsample_bytree=1, gamma=0, gpu_id=-1,\n",
       "             importance_type='gain', interaction_constraints='',\n",
       "             learning_rate=0.08, max_delta_step=0, max_depth=7,\n",
       "             min_child_weight=1, missing=nan, monotone_constraints='()',\n",
       "             n_estimators=10, n_jobs=8, num_parallel_tree=1, random_state=0,\n",
       "             reg_alpha=0, reg_lambda=1, scale_pos_weight=1, subsample=0.75,\n",
       "             tree_method='exact', validate_parameters=1, verbosity=None)"
      ]
     },
     "execution_count": 118,
     "metadata": {},
     "output_type": "execute_result"
    }
   ],
   "source": [
    "xgb_model = xgb.XGBRegressor(n_estimators=10, learning_rate=0.08, gamma=0, subsample=0.75,\n",
    "                             colsample_bytree=1, max_depth=7)\n",
    "xgb_model.fit(X_train,y_train)"
   ]
  },
  {
   "cell_type": "code",
   "execution_count": 119,
   "id": "2894922b",
   "metadata": {},
   "outputs": [
    {
     "data": {
      "text/plain": [
       "array([ 0.05787306,  0.9252817 , -0.21426862,  0.4418882 ,  0.2449503 ,\n",
       "        0.41815293,  0.37767226,  0.13672131,  0.12208883, -0.08819327,\n",
       "       -0.08855504, -0.1893893 , -0.28361642,  0.1854006 ,  0.49145034,\n",
       "        0.11599747,  0.5976257 ,  0.36983234,  0.42367777, -0.31452376,\n",
       "        0.02941563,  0.3038908 ,  0.46473616,  0.20092687,  0.82755804,\n",
       "        0.3526077 ,  0.2790186 , -0.32036304,  0.52099013,  0.34338844,\n",
       "        0.66879475,  0.18263905,  0.36586916, -0.2435723 ,  0.41815293,\n",
       "        0.03317634, -0.27043736,  0.3944032 , -0.16794209,  0.346117  ,\n",
       "        0.08979429, -0.15001199], dtype=float32)"
      ]
     },
     "execution_count": 119,
     "metadata": {},
     "output_type": "execute_result"
    }
   ],
   "source": [
    "predictions = xgb_model.predict(X_test)\n",
    "predictions"
   ]
  },
  {
   "cell_type": "code",
   "execution_count": 120,
   "id": "f0072193",
   "metadata": {},
   "outputs": [
    {
     "name": "stdout",
     "output_type": "stream",
     "text": [
      "0.49580784390872856\n",
      "-2.374460834659015\n"
     ]
    }
   ],
   "source": [
    "r_sq = xgb_model.score(X_train, y_train)\n",
    "print(r_sq)\n",
    "print(explained_variance_score(predictions,y_test))"
   ]
  },
  {
   "cell_type": "code",
   "execution_count": 121,
   "id": "29b6d4bb",
   "metadata": {},
   "outputs": [],
   "source": [
    "compare = pd.DataFrame(y_test)\n",
    "compare['predicted'] = list(predictions)\n",
    "compare['error'] = compare['residual'] - compare['predicted']"
   ]
  },
  {
   "cell_type": "code",
   "execution_count": 122,
   "id": "c36b3bd3",
   "metadata": {},
   "outputs": [
    {
     "data": {
      "text/html": [
       "<div>\n",
       "<style scoped>\n",
       "    .dataframe tbody tr th:only-of-type {\n",
       "        vertical-align: middle;\n",
       "    }\n",
       "\n",
       "    .dataframe tbody tr th {\n",
       "        vertical-align: top;\n",
       "    }\n",
       "\n",
       "    .dataframe thead th {\n",
       "        text-align: right;\n",
       "    }\n",
       "</style>\n",
       "<table border=\"1\" class=\"dataframe\">\n",
       "  <thead>\n",
       "    <tr style=\"text-align: right;\">\n",
       "      <th></th>\n",
       "      <th>residual</th>\n",
       "      <th>predicted</th>\n",
       "      <th>error</th>\n",
       "    </tr>\n",
       "  </thead>\n",
       "  <tbody>\n",
       "    <tr>\n",
       "      <th>133</th>\n",
       "      <td>-1.149693</td>\n",
       "      <td>0.057873</td>\n",
       "      <td>-1.207566</td>\n",
       "    </tr>\n",
       "    <tr>\n",
       "      <th>207</th>\n",
       "      <td>1.818224</td>\n",
       "      <td>0.925282</td>\n",
       "      <td>0.892942</td>\n",
       "    </tr>\n",
       "    <tr>\n",
       "      <th>203</th>\n",
       "      <td>0.165596</td>\n",
       "      <td>-0.214269</td>\n",
       "      <td>0.379865</td>\n",
       "    </tr>\n",
       "    <tr>\n",
       "      <th>167</th>\n",
       "      <td>0.884101</td>\n",
       "      <td>0.441888</td>\n",
       "      <td>0.442213</td>\n",
       "    </tr>\n",
       "    <tr>\n",
       "      <th>92</th>\n",
       "      <td>-1.896850</td>\n",
       "      <td>0.244950</td>\n",
       "      <td>-2.141800</td>\n",
       "    </tr>\n",
       "  </tbody>\n",
       "</table>\n",
       "</div>"
      ],
      "text/plain": [
       "     residual  predicted     error\n",
       "133 -1.149693   0.057873 -1.207566\n",
       "207  1.818224   0.925282  0.892942\n",
       "203  0.165596  -0.214269  0.379865\n",
       "167  0.884101   0.441888  0.442213\n",
       "92  -1.896850   0.244950 -2.141800"
      ]
     },
     "execution_count": 122,
     "metadata": {},
     "output_type": "execute_result"
    }
   ],
   "source": [
    "compare.head()"
   ]
  },
  {
   "cell_type": "code",
   "execution_count": 111,
   "id": "8dde3790",
   "metadata": {},
   "outputs": [
    {
     "name": "stdout",
     "output_type": "stream",
     "text": [
      "0.415618416372589\n"
     ]
    }
   ],
   "source": [
    "sse = 0\n",
    "for err in compare['error']:\n",
    "    se = err**2\n",
    "    sse += se\n",
    "mse = sse / compare.shape[0]\n",
    "print(mse)  # without 'MA'"
   ]
  },
  {
   "cell_type": "code",
   "execution_count": 123,
   "id": "376b8af6",
   "metadata": {},
   "outputs": [
    {
     "name": "stdout",
     "output_type": "stream",
     "text": [
      "0.356341631127592\n"
     ]
    }
   ],
   "source": [
    "sse = 0\n",
    "for err in compare['error']:\n",
    "    se = err**2\n",
    "    sse += se\n",
    "mse = sse / compare.shape[0]\n",
    "print(mse)  # with 'MA'"
   ]
  },
  {
   "cell_type": "code",
   "execution_count": null,
   "id": "0d1a8de1",
   "metadata": {},
   "outputs": [],
   "source": []
  },
  {
   "cell_type": "code",
   "execution_count": null,
   "id": "336f5572",
   "metadata": {},
   "outputs": [],
   "source": []
  },
  {
   "cell_type": "code",
   "execution_count": null,
   "id": "68598c6e",
   "metadata": {},
   "outputs": [],
   "source": []
  },
  {
   "cell_type": "code",
   "execution_count": null,
   "id": "55ce3678",
   "metadata": {},
   "outputs": [],
   "source": []
  },
  {
   "cell_type": "code",
   "execution_count": null,
   "id": "70d55bb7",
   "metadata": {},
   "outputs": [],
   "source": []
  }
 ],
 "metadata": {
  "kernelspec": {
   "display_name": "Python 3",
   "language": "python",
   "name": "python3"
  },
  "language_info": {
   "codemirror_mode": {
    "name": "ipython",
    "version": 3
   },
   "file_extension": ".py",
   "mimetype": "text/x-python",
   "name": "python",
   "nbconvert_exporter": "python",
   "pygments_lexer": "ipython3",
   "version": "3.7.10"
  }
 },
 "nbformat": 4,
 "nbformat_minor": 5
}
